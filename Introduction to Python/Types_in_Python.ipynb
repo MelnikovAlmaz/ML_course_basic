{
 "cells": [
  {
   "cell_type": "markdown",
   "metadata": {},
   "source": [
    "# Python - это круто!\n",
    "\n",
    "<img src=\"python_logo.jpg\"></img>\n",
    "\n",
    "**Python - это краткость**\n",
    "\n",
    "Питон создавался как лаконичный язык. Код на Питоне короче кода на С++ или Java.\n",
    "\n",
    "**Python - это легкость**\n",
    "\n",
    "Питон преподают школьникам с малых лет. Программа на Питоне понятна даже человеку без знания программирования.\n",
    "\n",
    "**Python - это швейцарский нож**\n",
    "\n",
    "На Питоне создают веб-сайты, анализирут данные, запускают марсоходы."
   ]
  },
  {
   "cell_type": "markdown",
   "metadata": {},
   "source": [
    "#### Пример Hello World на Java и Python\n",
    "\n",
    "**Java**"
   ]
  },
  {
   "cell_type": "code",
   "execution_count": null,
   "metadata": {},
   "outputs": [],
   "source": [
    "class HelloWorld {\n",
    "    public static void main(String[] args) {\n",
    "        System.out.println(\"Hello World!\");\n",
    "    }\n",
    "}"
   ]
  },
  {
   "cell_type": "markdown",
   "metadata": {},
   "source": [
    "**Python**"
   ]
  },
  {
   "cell_type": "code",
   "execution_count": null,
   "metadata": {},
   "outputs": [],
   "source": [
    "print(\"Hello World\")"
   ]
  },
  {
   "cell_type": "markdown",
   "metadata": {},
   "source": [
    "## Все начинается с ~~улыбки~~ типов данных!\n",
    "\n",
    "Язык Питон имеет динамическую типизацию, то есть указывать тип переменной не нужно!"
   ]
  },
  {
   "cell_type": "code",
   "execution_count": 1,
   "metadata": {},
   "outputs": [],
   "source": [
    "some_int = 5  # Создаю целое число\n",
    "\n",
    "some_string = \"Я есть строка!\"  # Создаю строку\n",
    "\n",
    "array = ['А я массив', 'храню', 5 , 'элементов!', 42.5]  # Создаю массив, в котором харю все что хочу!"
   ]
  },
  {
   "cell_type": "code",
   "execution_count": 2,
   "metadata": {},
   "outputs": [
    {
     "name": "stdout",
     "output_type": "stream",
     "text": [
      "5\n",
      "Был числом, стал строкой! Судьба злодейка\n"
     ]
    }
   ],
   "source": [
    "print(some_int)  # Напечатаем значение переменной\n",
    "\n",
    "some_int = \"Был числом, стал строкой! Судьба злодейка\"  # Переменной присвоили строковое значение\n",
    "\n",
    "print(some_int)  # Напечатаем ещё раз"
   ]
  },
  {
   "cell_type": "markdown",
   "metadata": {},
   "source": [
    "## Целые числа. int"
   ]
  },
  {
   "cell_type": "code",
   "execution_count": 16,
   "metadata": {},
   "outputs": [
    {
     "name": "stdout",
     "output_type": "stream",
     "text": [
      "6\n"
     ]
    }
   ],
   "source": [
    "number_1 = 10\n",
    "number_2 = 4\n",
    "\n",
    "print(number_1 - number_2)"
   ]
  },
  {
   "cell_type": "markdown",
   "metadata": {},
   "source": [
    "Сохраним результаты операций и выведем их через пробел."
   ]
  },
  {
   "cell_type": "code",
   "execution_count": 80,
   "metadata": {
    "collapsed": false
   },
   "outputs": [
    {
     "name": "stdout",
     "output_type": "stream",
     "text": [
      "9 20 1 1.25 25 7\n"
     ]
    }
   ],
   "source": [
    "a = 4 + 5  # Сложение\n",
    "b = 4 * 5  # Умножение\n",
    "c = 5 // 4  # Целочисленное деление\n",
    "d = 5 / 4  # Деление с дробной частью\n",
    "e = 5 ** 2  # Возведение в степень\n",
    "f = 15 % 8  # Остаток\n",
    "\n",
    "print(a, b, c, d, e, f)"
   ]
  },
  {
   "cell_type": "markdown",
   "metadata": {},
   "source": [
    "Целочисленное деление округляет в меньшую сторону. Интересное поведение с отрицательными числами."
   ]
  },
  {
   "cell_type": "code",
   "execution_count": 15,
   "metadata": {
    "collapsed": false
   },
   "outputs": [
    {
     "name": "stdout",
     "output_type": "stream",
     "text": [
      "-2\n",
      "-1\n"
     ]
    }
   ],
   "source": [
    "print(-5 // 4)\n",
    "\n",
    "print(-(5 // 4))"
   ]
  },
  {
   "cell_type": "markdown",
   "metadata": {},
   "source": [
    "## Дробные числа. float"
   ]
  },
  {
   "cell_type": "code",
   "execution_count": 17,
   "metadata": {},
   "outputs": [
    {
     "name": "stdout",
     "output_type": "stream",
     "text": [
      "6.3\n"
     ]
    }
   ],
   "source": [
    "number_1 = 10.5\n",
    "number_2 = 4.2\n",
    "\n",
    "print(number_1 - number_2)"
   ]
  },
  {
   "cell_type": "markdown",
   "metadata": {},
   "source": [
    "Сохраним результаты операций и выведем их через пробел."
   ]
  },
  {
   "cell_type": "code",
   "execution_count": 25,
   "metadata": {
    "collapsed": false
   },
   "outputs": [
    {
     "name": "stdout",
     "output_type": "stream",
     "text": [
      "9.3 21.419999999999998 2.16\n"
     ]
    }
   ],
   "source": [
    "a = 4.2 + 5.1\n",
    "b = 4.2 * 5.1\n",
    "c = 5.4 / 2.5\n",
    "\n",
    "print(a, b, c)"
   ]
  },
  {
   "cell_type": "markdown",
   "metadata": {},
   "source": [
    "## Логический тип данных. bool"
   ]
  },
  {
   "cell_type": "code",
   "execution_count": 33,
   "metadata": {
    "collapsed": false
   },
   "outputs": [
    {
     "name": "stdout",
     "output_type": "stream",
     "text": [
      "True\n",
      "False\n"
     ]
    }
   ],
   "source": [
    "a = True\n",
    "b = False\n",
    "c = True\n",
    "d = False\n",
    "\n",
    "print(a)\n",
    "print(b)"
   ]
  },
  {
   "cell_type": "markdown",
   "metadata": {},
   "source": [
    "Логические операции в Питоне пишутся словами и это удобно!\n",
    "\n",
    "И - and, ИЛИ - or, НЕ - not"
   ]
  },
  {
   "cell_type": "code",
   "execution_count": 36,
   "metadata": {
    "collapsed": false
   },
   "outputs": [
    {
     "name": "stdout",
     "output_type": "stream",
     "text": [
      "False\n",
      "True\n",
      "True\n",
      "True\n",
      "False\n"
     ]
    }
   ],
   "source": [
    "print(a and b)\n",
    "print(a and c)\n",
    "print(a or b)\n",
    "print(a and not d)\n",
    "print(not a and c or b)"
   ]
  },
  {
   "cell_type": "markdown",
   "metadata": {},
   "source": [
    "Также имеются операции, результат которых логический тип"
   ]
  },
  {
   "cell_type": "code",
   "execution_count": 83,
   "metadata": {},
   "outputs": [
    {
     "name": "stdout",
     "output_type": "stream",
     "text": [
      "False\n",
      "True\n",
      "False\n"
     ]
    }
   ],
   "source": [
    "a = 7\n",
    "b = 9\n",
    "\n",
    "bool_value = a == b  # Операция сравнения на равенство, равен True если элементы равны\n",
    "print(bool_value)\n",
    "\n",
    "bool_value = a != b  # Операция сравнения на НЕравенство, равен True если элементы НЕ равны\n",
    "print(bool_value)\n",
    "\n",
    "bool_value = a >= b  # Операция больше или равно\n",
    "print(bool_value)"
   ]
  },
  {
   "cell_type": "markdown",
   "metadata": {},
   "source": [
    "Также есть операции: </br>\n",
    "- .> - больше\n",
    "- < - меньше\n",
    "- <= - меньше или равно"
   ]
  },
  {
   "cell_type": "markdown",
   "metadata": {},
   "source": [
    "## None"
   ]
  },
  {
   "cell_type": "code",
   "execution_count": 37,
   "metadata": {
    "collapsed": false
   },
   "outputs": [],
   "source": [
    "z = None"
   ]
  },
  {
   "cell_type": "code",
   "execution_count": 38,
   "metadata": {
    "collapsed": false
   },
   "outputs": [
    {
     "ename": "TypeError",
     "evalue": "int() argument must be a string, a bytes-like object or a number, not 'NoneType'",
     "output_type": "error",
     "traceback": [
      "\u001b[0;31m---------------------------------------------------------------------------\u001b[0m",
      "\u001b[0;31mTypeError\u001b[0m                                 Traceback (most recent call last)",
      "\u001b[0;32m<ipython-input-38-af352a0618bc>\u001b[0m in \u001b[0;36m<module>\u001b[0;34m\u001b[0m\n\u001b[0;32m----> 1\u001b[0;31m \u001b[0mint\u001b[0m\u001b[0;34m(\u001b[0m\u001b[0mz\u001b[0m\u001b[0;34m)\u001b[0m\u001b[0;34m\u001b[0m\u001b[0m\n\u001b[0m",
      "\u001b[0;31mTypeError\u001b[0m: int() argument must be a string, a bytes-like object or a number, not 'NoneType'"
     ]
    }
   ],
   "source": [
    "int(z)  # Попробуем превратить None (пустоту) в целое число. Ошибка, так как из ничего не получится получить что-то."
   ]
  },
  {
   "cell_type": "markdown",
   "metadata": {},
   "source": [
    "## Строковые. str\n",
    "\n",
    "Строка - это последовательность символов. Мы говорим иногда - Первая буква в слове \"Феникс\" - это \"Ф\".\n",
    "\n",
    "То есть мы можем пронумеровать символы от начала до конца.\n",
    "\n",
    "Чаще всего нумерация элементов в ЯП начинается с 0. Питон тоже этого придерживается.\n",
    "\n",
    "Значит номер буквы \"Ф\" будет 0, у \"е\" будет 1 и т.д."
   ]
  },
  {
   "cell_type": "code",
   "execution_count": 39,
   "metadata": {
    "collapsed": false
   },
   "outputs": [
    {
     "name": "stdout",
     "output_type": "stream",
     "text": [
      "abc\n"
     ]
    }
   ],
   "source": [
    "x = \"abc\"\n",
    "print(x)"
   ]
  },
  {
   "cell_type": "markdown",
   "metadata": {},
   "source": [
    "Если сложить строки, то получится новая строка - последовательное соединение строк (конкатенация)."
   ]
  },
  {
   "cell_type": "code",
   "execution_count": 56,
   "metadata": {
    "collapsed": false
   },
   "outputs": [
    {
     "name": "stdout",
     "output_type": "stream",
     "text": [
      "Я есть    Грут!\n"
     ]
    }
   ],
   "source": [
    "string_1 = 'Я есть   '\n",
    "string_2 = \"Грут!\"\n",
    "big_string = string_1 + \" \" + string_2\n",
    "\n",
    "print(big_string)"
   ]
  },
  {
   "cell_type": "markdown",
   "metadata": {},
   "source": [
    "У строк есть клевые возможности (методы), которые что-то делают с ней и получается резутьтат.\n",
    "\n",
    "Вот некоторые из них."
   ]
  },
  {
   "cell_type": "code",
   "execution_count": 61,
   "metadata": {
    "collapsed": false
   },
   "outputs": [
    {
     "name": "stdout",
     "output_type": "stream",
     "text": [
      "Я ЕСТЬ    ГРУТ!\n",
      "я есть    грут!\n",
      "Я есть    грут!\n",
      "Я есть Грут!\n"
     ]
    }
   ],
   "source": [
    "a = big_string.upper()  # Делает все буквы большими\n",
    "b = big_string.lower()  # Делает все буквы маленькими\n",
    "c = big_string.capitalize()  # Первый символ будет большим, а все остальные маленькие\n",
    "d = string_1.strip()  # Удаляет пробелы в начале и в конце, если они есть.\n",
    "\n",
    "print(a)\n",
    "print(b)\n",
    "print(c)\n",
    "print(d + \" \" + string_2)"
   ]
  },
  {
   "cell_type": "markdown",
   "metadata": {},
   "source": [
    "Чтобы узнать длину строки достаточно использовать метод len(). Внутрь скобок надо вставить строку или переменную."
   ]
  },
  {
   "cell_type": "code",
   "execution_count": 66,
   "metadata": {
    "collapsed": false
   },
   "outputs": [
    {
     "name": "stdout",
     "output_type": "stream",
     "text": [
      "15\n",
      "22\n"
     ]
    }
   ],
   "source": [
    "a = len(big_string)\n",
    "b = len(\"А тут уже 22 символа!!\")\n",
    "\n",
    "print(a)\n",
    "print(b)"
   ]
  },
  {
   "cell_type": "markdown",
   "metadata": {},
   "source": [
    "Как мы уже сказали, символы можно пронумеровать. От начала и до конца строки как 0, 1, 2 ... , len(string) - 1. Почему так?\n",
    "\n",
    "Зная номера символов мы можем их доставать из строки."
   ]
  },
  {
   "cell_type": "code",
   "execution_count": 67,
   "metadata": {
    "collapsed": false
   },
   "outputs": [
    {
     "name": "stdout",
     "output_type": "stream",
     "text": [
      "Я есть    Грут!\n",
      "Я\n",
      "е\n",
      "Я ес\n"
     ]
    }
   ],
   "source": [
    "print(big_string)  # Печатаем всю строку\n",
    "print(big_string[0])  # Печатаем символ под нулевым номером, он же первый по счету\n",
    "print(big_string[2])  # Печатаем символ под вторым номером, он же третий\n",
    "print(big_string[0:4])  # Печатаем все символы от нулевого до четвертого НЕ ВКЛЮЧИТЕЛЬНО!"
   ]
  },
  {
   "cell_type": "code",
   "execution_count": 77,
   "metadata": {
    "collapsed": false
   },
   "outputs": [
    {
     "name": "stdout",
     "output_type": "stream",
     "text": [
      "Яет \n"
     ]
    }
   ],
   "source": [
    "print(big_string[0:8:2])  # Печатаем все символы от нулевого до восьмого НЕ ВКЛЮЧИТЕЛЬНО с шагом 2, то есть через 1 символ"
   ]
  },
  {
   "cell_type": "markdown",
   "metadata": {},
   "source": [
    "## Задача 2\n",
    "Вам даны 2 строки. Получите из них строку **\"Я доминатор3000\"**, применяя все что прошли.\n",
    "\n",
    "Можете создавать новые переменные. В конце напечатайте итоговую переменную с помощью print()"
   ]
  },
  {
   "cell_type": "code",
   "execution_count": 78,
   "metadata": {},
   "outputs": [],
   "source": [
    "string_1 = \"я играю в ДОМИНО\"\n",
    "string_2 = \"     на то есть 3000 причин\"\n",
    "\n",
    "### Ваш код начинается здесь ###"
   ]
  },
  {
   "cell_type": "markdown",
   "metadata": {},
   "source": [
    "## Массивы. list\n",
    "\n",
    "Они же списки, как звучит перевод слова list. Это последовательный набор элементов. Элементы могут быть разных типов.\n",
    "\n",
    "Раз это последовательность, то как и символы в строке, элементы в списке можно пронумеровать начиная от 0."
   ]
  },
  {
   "cell_type": "code",
   "execution_count": 69,
   "metadata": {
    "collapsed": false
   },
   "outputs": [
    {
     "name": "stdout",
     "output_type": "stream",
     "text": [
      "['Ivan Ivanovich', 'Medium', 500000, 12, True]\n"
     ]
    }
   ],
   "source": [
    "features = ['Ivan Ivanovich', 'Medium', 500000, 12, True]  # Список состоит из элементов разного типа\n",
    "\n",
    "print(features)  # Напечатаем список"
   ]
  },
  {
   "cell_type": "markdown",
   "metadata": {},
   "source": [
    "Можем выбирать элементы из списка по их номерам и назначать их другим переменным например."
   ]
  },
  {
   "cell_type": "code",
   "execution_count": 70,
   "metadata": {
    "collapsed": false
   },
   "outputs": [
    {
     "name": "stdout",
     "output_type": "stream",
     "text": [
      "Ivan Ivanovich Medium 12\n"
     ]
    }
   ],
   "source": [
    "a = features[0]  # Назначили переменной a значение из первой ячейки списка\n",
    "b = features[1]\n",
    "c = features[3]\n",
    "\n",
    "print(a, b, c)"
   ]
  },
  {
   "cell_type": "markdown",
   "metadata": {},
   "source": [
    "Можем также выбрать несколько подряд идущих элементов, тогда получится тоже список, но меньшего размера."
   ]
  },
  {
   "cell_type": "code",
   "execution_count": 71,
   "metadata": {
    "collapsed": false
   },
   "outputs": [
    {
     "name": "stdout",
     "output_type": "stream",
     "text": [
      "['Ivan Ivanovich', 'Medium', 500000, 12, True]\n"
     ]
    }
   ],
   "source": [
    "a = features[0:5]  # Выберем все элементы\n",
    "print(a)"
   ]
  },
  {
   "cell_type": "code",
   "execution_count": 72,
   "metadata": {
    "collapsed": false
   },
   "outputs": [
    {
     "name": "stdout",
     "output_type": "stream",
     "text": [
      "['Ivan Ivanovich', 'Medium', 500000, 12, True]\n"
     ]
    }
   ],
   "source": [
    "a = features[:5]  # Если начинаем с нулевого, то можно 0 не писать.\n",
    "print(a)"
   ]
  },
  {
   "cell_type": "code",
   "execution_count": 73,
   "metadata": {
    "collapsed": false
   },
   "outputs": [
    {
     "name": "stdout",
     "output_type": "stream",
     "text": [
      "['Medium', 500000, 12, True]\n"
     ]
    }
   ],
   "source": [
    "a = features[1:]  # Если заканчиваем на последнем, то номер последнего можно не писать.\n",
    "print(a)"
   ]
  },
  {
   "cell_type": "code",
   "execution_count": 74,
   "metadata": {
    "collapsed": false
   },
   "outputs": [
    {
     "name": "stdout",
     "output_type": "stream",
     "text": [
      "[500000, 12]\n"
     ]
    }
   ],
   "source": [
    "a = features[2:4]  # Выберем некоторые из середины\n",
    "print(a)"
   ]
  },
  {
   "cell_type": "markdown",
   "metadata": {},
   "source": [
    "Можем добавить новый элемент в список"
   ]
  },
  {
   "cell_type": "code",
   "execution_count": 75,
   "metadata": {
    "collapsed": false
   },
   "outputs": [
    {
     "name": "stdout",
     "output_type": "stream",
     "text": [
      "['Ivan Ivanovich', 'Medium', 500000, 12, True, 'One more element in list']\n"
     ]
    }
   ],
   "source": [
    "features.append('One more element in list')  # Вызываем метод append()\n",
    "print(features)"
   ]
  },
  {
   "cell_type": "markdown",
   "metadata": {},
   "source": [
    "Можем удалить элемент на какой-то позиции при помощи спец. функции **del**"
   ]
  },
  {
   "cell_type": "code",
   "execution_count": 76,
   "metadata": {
    "collapsed": true
   },
   "outputs": [
    {
     "name": "stdout",
     "output_type": "stream",
     "text": [
      "['Ivan Ivanovich', 500000, 12, True, 'One more element in list']\n"
     ]
    }
   ],
   "source": [
    "del features[1]\n",
    "\n",
    "print(features)"
   ]
  },
  {
   "cell_type": "markdown",
   "metadata": {},
   "source": [
    "## Словари. dict\n",
    "Представляет из себя набор различных пар элементов.\n",
    "\n",
    "{\n",
    "    \"ключ1\": \"значение1\",\n",
    "    \"ключ2\": \"значение2\",\n",
    "    ...\n",
    "}\n",
    "  \n",
    "В каждой паре есть \"ключ\" - это элемент по которому будет вестись поиск в словаре.\n",
    "\n",
    "И второй элемент в паре - это \"значение\", элемент который хранит в себе значение этой пары.\n",
    "\n",
    "Словари нужно использовать в следующих случаях:\n",
    "- Подсчет числа каких-то объектов. В этом случае нужно завести словарь, в котором ключами являются объекты, а значениями — их количество.\n",
    "- Хранение каких-либо данных, связанных с объектом. Ключи — объекты, значения — связанные с ними данные. Например, если нужно по названию месяца определить его порядковый номер, то это можно сделать при помощи словаря Num['January'] = 1; Num['February'] = 2; ....\n",
    "- Установка соответствия между объектами (например, “родитель—потомок”). Ключ — объект, значение — соответствующий ему объект. "
   ]
  },
  {
   "cell_type": "code",
   "execution_count": 84,
   "metadata": {
    "collapsed": false
   },
   "outputs": [
    {
     "name": "stdout",
     "output_type": "stream",
     "text": [
      "{'I': 2, 'am': 1}\n"
     ]
    }
   ],
   "source": [
    "words_frequencies = {'I': 0, 'am': 0}  # Создаю словарь, в котором 2 пары, значения которых равны 0.\n",
    "\n",
    "words_frequencies['I'] = 1  # Изменяю значение пары под ключом \"I\" на 1\n",
    "words_frequencies['am'] = 1\n",
    "words_frequencies['I'] += 1\n",
    "\n",
    "print(words_frequencies)"
   ]
  },
  {
   "cell_type": "code",
   "execution_count": 85,
   "metadata": {
    "collapsed": false
   },
   "outputs": [
    {
     "name": "stdout",
     "output_type": "stream",
     "text": [
      "2\n"
     ]
    }
   ],
   "source": [
    "print(words_frequencies['I'])"
   ]
  },
  {
   "cell_type": "markdown",
   "metadata": {},
   "source": [
    "Ключом в словаре может быть число или строка, а значение любой тип данных"
   ]
  },
  {
   "cell_type": "code",
   "execution_count": 87,
   "metadata": {
    "collapsed": false
   },
   "outputs": [
    {
     "name": "stdout",
     "output_type": "stream",
     "text": [
      "{'abc': 3.4, 5: 7.8, '123': None}\n"
     ]
    }
   ],
   "source": [
    "another_dict = {'abc': 3.4, 5: 7.8, '123': None}\n",
    "\n",
    "print(another_dict)"
   ]
  },
  {
   "cell_type": "code",
   "execution_count": null,
   "metadata": {},
   "outputs": [],
   "source": [
    "## Задача 4\n"
   ]
  },
  {
   "cell_type": "markdown",
   "metadata": {},
   "source": [
    "## Где еще можно познакомиться с Python"
   ]
  },
  {
   "cell_type": "markdown",
   "metadata": {},
   "source": [
    "* http://www.pythontutor.ru\n",
    "* http://www.learnpythonthehardway.org\n",
    "* http://snakify.org\n",
    "* https://www.checkio.org"
   ]
  },
  {
   "cell_type": "markdown",
   "metadata": {},
   "source": [
    "## Задача 1\n",
    "\n",
    "Написать функцию square, принимающую 1 аргумент — сторону квадрата, и возвращающую 3 значения (с помощью кортежа): периметр квадрата, площадь квадрата и диагональ квадрата."
   ]
  },
  {
   "cell_type": "markdown",
   "metadata": {},
   "source": [
    "## Задача 2\n",
    "\n",
    "Пользователь делает вклад в размере a рублей сроком на years лет под 10% годовых (каждый год размер его вклада увеличивается на 10%. Эти деньги прибавляются к сумме вклада, и на них в следующем году тоже будут проценты)."
   ]
  },
  {
   "cell_type": "markdown",
   "metadata": {},
   "source": [
    "## Задача 3\n",
    "\n",
    "Написать функцию bank, принимающая аргументы a и years, и возвращающую сумму, которая будет на счету пользователя."
   ]
  },
  {
   "cell_type": "markdown",
   "metadata": {},
   "source": [
    "## Задача 4\n",
    "\n",
    "Написать функцию season, принимающую 1 аргумент — номер месяца (от 1 до 12), и возвращающую время года, которому этот месяц принадлежит (зима, весна, лето или осень)."
   ]
  },
  {
   "cell_type": "markdown",
   "metadata": {},
   "source": [
    "## Задача 5\n",
    "\n",
    "Напишите интерактивную игру в блэкджек. Играют 2 игрока.\n",
    "0) Делается ставка на раунд\n",
    "1) Первый игрок набирает карты и останавливает набор\n",
    "2) Второй игрок набирает карты и останавливает набор\n",
    "3) В конце раунда у кого больше тот и забирает банк"
   ]
  },
  {
   "cell_type": "code",
   "execution_count": null,
   "metadata": {},
   "outputs": [],
   "source": []
  }
 ],
 "metadata": {
  "anaconda-cloud": {},
  "kernelspec": {
   "display_name": "Python 3",
   "language": "python",
   "name": "python3"
  },
  "language_info": {
   "codemirror_mode": {
    "name": "ipython",
    "version": 3
   },
   "file_extension": ".py",
   "mimetype": "text/x-python",
   "name": "python",
   "nbconvert_exporter": "python",
   "pygments_lexer": "ipython3",
   "version": "3.6.6"
  }
 },
 "nbformat": 4,
 "nbformat_minor": 2
}
